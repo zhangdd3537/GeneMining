{
 "cells": [
  {
   "cell_type": "code",
   "execution_count": 26,
   "id": "acb6fc5f",
   "metadata": {},
   "outputs": [],
   "source": [
    "import pandas as pd \n",
    "import numpy as np\n",
    "import matplotlib.pyplot as plt\n",
    "from sklearn.metrics import classification_report\n",
    "from sklearn.metrics import roc_auc_score\n",
    "import warnings\n",
    "warnings.filterwarnings(\"ignore\")"
   ]
  },
  {
   "cell_type": "code",
   "execution_count": 20,
   "id": "256b5729",
   "metadata": {},
   "outputs": [],
   "source": [
    "train = pd.read_csv('./train0611.csv')\n",
    "test = pd.read_csv('./test0611.csv')"
   ]
  },
  {
   "cell_type": "code",
   "execution_count": 21,
   "id": "43414937",
   "metadata": {},
   "outputs": [
    {
     "data": {
      "text/html": [
       "<div>\n",
       "<style scoped>\n",
       "    .dataframe tbody tr th:only-of-type {\n",
       "        vertical-align: middle;\n",
       "    }\n",
       "\n",
       "    .dataframe tbody tr th {\n",
       "        vertical-align: top;\n",
       "    }\n",
       "\n",
       "    .dataframe thead th {\n",
       "        text-align: right;\n",
       "    }\n",
       "</style>\n",
       "<table border=\"1\" class=\"dataframe\">\n",
       "  <thead>\n",
       "    <tr style=\"text-align: right;\">\n",
       "      <th></th>\n",
       "      <th>g1</th>\n",
       "      <th>g2</th>\n",
       "      <th>g1t</th>\n",
       "      <th>g2t</th>\n",
       "      <th>pd1</th>\n",
       "      <th>pd2</th>\n",
       "      <th>cont</th>\n",
       "      <th>dic</th>\n",
       "      <th>identity</th>\n",
       "      <th>label</th>\n",
       "      <th>t1</th>\n",
       "      <th>t2</th>\n",
       "      <th>score</th>\n",
       "    </tr>\n",
       "  </thead>\n",
       "  <tbody>\n",
       "    <tr>\n",
       "      <th>0</th>\n",
       "      <td>6788.0</td>\n",
       "      <td>6793.0</td>\n",
       "      <td>disease_resistance</td>\n",
       "      <td>disease_resistance</td>\n",
       "      <td>P0DKH6</td>\n",
       "      <td>Q9CAK1</td>\n",
       "      <td>7</td>\n",
       "      <td>2</td>\n",
       "      <td>44.696</td>\n",
       "      <td>1.0</td>\n",
       "      <td>2014-11-26</td>\n",
       "      <td>2015-06-24</td>\n",
       "      <td>625.744</td>\n",
       "    </tr>\n",
       "    <tr>\n",
       "      <th>1</th>\n",
       "      <td>6805.0</td>\n",
       "      <td>6793.0</td>\n",
       "      <td>disease_resistance</td>\n",
       "      <td>disease_resistance</td>\n",
       "      <td>F4KHI3</td>\n",
       "      <td>Q9CAK1</td>\n",
       "      <td>7</td>\n",
       "      <td>2</td>\n",
       "      <td>41.778</td>\n",
       "      <td>1.0</td>\n",
       "      <td>2014-07-09</td>\n",
       "      <td>2015-06-24</td>\n",
       "      <td>584.892</td>\n",
       "    </tr>\n",
       "    <tr>\n",
       "      <th>2</th>\n",
       "      <td>6794.0</td>\n",
       "      <td>6793.0</td>\n",
       "      <td>disease_resistance</td>\n",
       "      <td>disease_resistance</td>\n",
       "      <td>F4I594</td>\n",
       "      <td>Q9CAK1</td>\n",
       "      <td>8</td>\n",
       "      <td>2</td>\n",
       "      <td>60.079</td>\n",
       "      <td>1.0</td>\n",
       "      <td>2015-06-24</td>\n",
       "      <td>2015-06-24</td>\n",
       "      <td>961.264</td>\n",
       "    </tr>\n",
       "    <tr>\n",
       "      <th>3</th>\n",
       "      <td>6803.0</td>\n",
       "      <td>6793.0</td>\n",
       "      <td>disease_resistance</td>\n",
       "      <td>disease_resistance</td>\n",
       "      <td>Q9C7X0</td>\n",
       "      <td>Q9CAK1</td>\n",
       "      <td>8</td>\n",
       "      <td>2</td>\n",
       "      <td>53.724</td>\n",
       "      <td>1.0</td>\n",
       "      <td>2015-06-24</td>\n",
       "      <td>2015-06-24</td>\n",
       "      <td>859.584</td>\n",
       "    </tr>\n",
       "    <tr>\n",
       "      <th>4</th>\n",
       "      <td>6731.0</td>\n",
       "      <td>6793.0</td>\n",
       "      <td>disease_resistance</td>\n",
       "      <td>disease_resistance</td>\n",
       "      <td>F4JNA9</td>\n",
       "      <td>Q9CAK1</td>\n",
       "      <td>8</td>\n",
       "      <td>2</td>\n",
       "      <td>41.518</td>\n",
       "      <td>1.0</td>\n",
       "      <td>2015-06-24</td>\n",
       "      <td>2015-06-24</td>\n",
       "      <td>664.288</td>\n",
       "    </tr>\n",
       "  </tbody>\n",
       "</table>\n",
       "</div>"
      ],
      "text/plain": [
       "       g1      g2                 g1t                 g2t     pd1     pd2  \\\n",
       "0  6788.0  6793.0  disease_resistance  disease_resistance  P0DKH6  Q9CAK1   \n",
       "1  6805.0  6793.0  disease_resistance  disease_resistance  F4KHI3  Q9CAK1   \n",
       "2  6794.0  6793.0  disease_resistance  disease_resistance  F4I594  Q9CAK1   \n",
       "3  6803.0  6793.0  disease_resistance  disease_resistance  Q9C7X0  Q9CAK1   \n",
       "4  6731.0  6793.0  disease_resistance  disease_resistance  F4JNA9  Q9CAK1   \n",
       "\n",
       "   cont  dic  identity  label          t1          t2    score  \n",
       "0     7    2    44.696    1.0  2014-11-26  2015-06-24  625.744  \n",
       "1     7    2    41.778    1.0  2014-07-09  2015-06-24  584.892  \n",
       "2     8    2    60.079    1.0  2015-06-24  2015-06-24  961.264  \n",
       "3     8    2    53.724    1.0  2015-06-24  2015-06-24  859.584  \n",
       "4     8    2    41.518    1.0  2015-06-24  2015-06-24  664.288  "
      ]
     },
     "execution_count": 21,
     "metadata": {},
     "output_type": "execute_result"
    }
   ],
   "source": [
    "train.head()"
   ]
  },
  {
   "cell_type": "code",
   "execution_count": 22,
   "id": "cadc2e03",
   "metadata": {},
   "outputs": [
    {
     "data": {
      "text/html": [
       "<div>\n",
       "<style scoped>\n",
       "    .dataframe tbody tr th:only-of-type {\n",
       "        vertical-align: middle;\n",
       "    }\n",
       "\n",
       "    .dataframe tbody tr th {\n",
       "        vertical-align: top;\n",
       "    }\n",
       "\n",
       "    .dataframe thead th {\n",
       "        text-align: right;\n",
       "    }\n",
       "</style>\n",
       "<table border=\"1\" class=\"dataframe\">\n",
       "  <thead>\n",
       "    <tr style=\"text-align: right;\">\n",
       "      <th></th>\n",
       "      <th>g1</th>\n",
       "      <th>g2</th>\n",
       "      <th>g1t</th>\n",
       "      <th>g2t</th>\n",
       "      <th>pd1</th>\n",
       "      <th>pd2</th>\n",
       "      <th>cont</th>\n",
       "      <th>dic</th>\n",
       "      <th>identity</th>\n",
       "      <th>label</th>\n",
       "      <th>t1</th>\n",
       "      <th>t2</th>\n",
       "      <th>score</th>\n",
       "    </tr>\n",
       "  </thead>\n",
       "  <tbody>\n",
       "    <tr>\n",
       "      <th>0</th>\n",
       "      <td>6713.0</td>\n",
       "      <td>6793.0</td>\n",
       "      <td>disease_resistance</td>\n",
       "      <td>disease_resistance</td>\n",
       "      <td>F4JWM0</td>\n",
       "      <td>Q9CAK1</td>\n",
       "      <td>7</td>\n",
       "      <td>2</td>\n",
       "      <td>44.678</td>\n",
       "      <td>1.0</td>\n",
       "      <td>2017-11-22</td>\n",
       "      <td>2015-06-24</td>\n",
       "      <td>625.492</td>\n",
       "    </tr>\n",
       "    <tr>\n",
       "      <th>1</th>\n",
       "      <td>6713.0</td>\n",
       "      <td>6726.0</td>\n",
       "      <td>disease_resistance</td>\n",
       "      <td>disease_resistance</td>\n",
       "      <td>F4JWM0</td>\n",
       "      <td>O82500</td>\n",
       "      <td>6</td>\n",
       "      <td>2</td>\n",
       "      <td>42.137</td>\n",
       "      <td>1.0</td>\n",
       "      <td>2017-11-22</td>\n",
       "      <td>2006-11-28</td>\n",
       "      <td>505.644</td>\n",
       "    </tr>\n",
       "    <tr>\n",
       "      <th>2</th>\n",
       "      <td>6674.0</td>\n",
       "      <td>6726.0</td>\n",
       "      <td>disease_resistance</td>\n",
       "      <td>disease_resistance</td>\n",
       "      <td>F4JT82</td>\n",
       "      <td>O82500</td>\n",
       "      <td>5</td>\n",
       "      <td>2</td>\n",
       "      <td>48.276</td>\n",
       "      <td>1.0</td>\n",
       "      <td>2018-06-20</td>\n",
       "      <td>2006-11-28</td>\n",
       "      <td>482.760</td>\n",
       "    </tr>\n",
       "    <tr>\n",
       "      <th>3</th>\n",
       "      <td>6677.0</td>\n",
       "      <td>6726.0</td>\n",
       "      <td>disease_resistance</td>\n",
       "      <td>disease_resistance</td>\n",
       "      <td>F4JT78</td>\n",
       "      <td>O82500</td>\n",
       "      <td>6</td>\n",
       "      <td>2</td>\n",
       "      <td>51.667</td>\n",
       "      <td>1.0</td>\n",
       "      <td>2018-06-20</td>\n",
       "      <td>2006-11-28</td>\n",
       "      <td>620.004</td>\n",
       "    </tr>\n",
       "    <tr>\n",
       "      <th>4</th>\n",
       "      <td>6713.0</td>\n",
       "      <td>6774.0</td>\n",
       "      <td>disease_resistance</td>\n",
       "      <td>disease_resistance</td>\n",
       "      <td>F4JWM0</td>\n",
       "      <td>Q9FI14</td>\n",
       "      <td>8</td>\n",
       "      <td>2</td>\n",
       "      <td>50.749</td>\n",
       "      <td>1.0</td>\n",
       "      <td>2017-11-22</td>\n",
       "      <td>2015-06-24</td>\n",
       "      <td>811.984</td>\n",
       "    </tr>\n",
       "  </tbody>\n",
       "</table>\n",
       "</div>"
      ],
      "text/plain": [
       "       g1      g2                 g1t                 g2t     pd1     pd2  \\\n",
       "0  6713.0  6793.0  disease_resistance  disease_resistance  F4JWM0  Q9CAK1   \n",
       "1  6713.0  6726.0  disease_resistance  disease_resistance  F4JWM0  O82500   \n",
       "2  6674.0  6726.0  disease_resistance  disease_resistance  F4JT82  O82500   \n",
       "3  6677.0  6726.0  disease_resistance  disease_resistance  F4JT78  O82500   \n",
       "4  6713.0  6774.0  disease_resistance  disease_resistance  F4JWM0  Q9FI14   \n",
       "\n",
       "   cont  dic  identity  label          t1          t2    score  \n",
       "0     7    2    44.678    1.0  2017-11-22  2015-06-24  625.492  \n",
       "1     6    2    42.137    1.0  2017-11-22  2006-11-28  505.644  \n",
       "2     5    2    48.276    1.0  2018-06-20  2006-11-28  482.760  \n",
       "3     6    2    51.667    1.0  2018-06-20  2006-11-28  620.004  \n",
       "4     8    2    50.749    1.0  2017-11-22  2015-06-24  811.984  "
      ]
     },
     "execution_count": 22,
     "metadata": {},
     "output_type": "execute_result"
    }
   ],
   "source": [
    "test.head()"
   ]
  },
  {
   "cell_type": "code",
   "execution_count": 23,
   "id": "d261ac4a",
   "metadata": {},
   "outputs": [],
   "source": [
    "train['score1']=train['score']/train['score'].max()\n",
    "test['score1']=test['score']/test['score'].max()"
   ]
  },
  {
   "cell_type": "code",
   "execution_count": 24,
   "id": "a5c78b4c",
   "metadata": {},
   "outputs": [],
   "source": [
    "scores = []\n",
    "macro_avg =[]\n",
    "\n",
    "for score in train['score'].sort_values().values:\n",
    "    train['label1']=0\n",
    "    train['label1'][train['score']>=score]=1\n",
    "    a =classification_report(train['label'], train['label1'],output_dict=True)\n",
    "    scores.append(score)\n",
    "    macro_avg.append(a['macro avg']['f1-score'])"
   ]
  },
  {
   "cell_type": "code",
   "execution_count": 25,
   "id": "f7c0ddcf",
   "metadata": {},
   "outputs": [
    {
     "data": {
      "text/html": [
       "<div>\n",
       "<style scoped>\n",
       "    .dataframe tbody tr th:only-of-type {\n",
       "        vertical-align: middle;\n",
       "    }\n",
       "\n",
       "    .dataframe tbody tr th {\n",
       "        vertical-align: top;\n",
       "    }\n",
       "\n",
       "    .dataframe thead th {\n",
       "        text-align: right;\n",
       "    }\n",
       "</style>\n",
       "<table border=\"1\" class=\"dataframe\">\n",
       "  <thead>\n",
       "    <tr style=\"text-align: right;\">\n",
       "      <th></th>\n",
       "      <th>id</th>\n",
       "      <th>scores</th>\n",
       "      <th>macro_avg</th>\n",
       "    </tr>\n",
       "  </thead>\n",
       "  <tbody>\n",
       "    <tr>\n",
       "      <th>0</th>\n",
       "      <td>0</td>\n",
       "      <td>144.040</td>\n",
       "      <td>0.479256</td>\n",
       "    </tr>\n",
       "    <tr>\n",
       "      <th>1</th>\n",
       "      <td>1</td>\n",
       "      <td>292.408</td>\n",
       "      <td>0.478883</td>\n",
       "    </tr>\n",
       "    <tr>\n",
       "      <th>2</th>\n",
       "      <td>2</td>\n",
       "      <td>293.128</td>\n",
       "      <td>0.478510</td>\n",
       "    </tr>\n",
       "    <tr>\n",
       "      <th>3</th>\n",
       "      <td>3</td>\n",
       "      <td>294.544</td>\n",
       "      <td>0.478136</td>\n",
       "    </tr>\n",
       "    <tr>\n",
       "      <th>4</th>\n",
       "      <td>4</td>\n",
       "      <td>301.920</td>\n",
       "      <td>0.477762</td>\n",
       "    </tr>\n",
       "  </tbody>\n",
       "</table>\n",
       "</div>"
      ],
      "text/plain": [
       "   id   scores  macro_avg\n",
       "0   0  144.040   0.479256\n",
       "1   1  292.408   0.478883\n",
       "2   2  293.128   0.478510\n",
       "3   3  294.544   0.478136\n",
       "4   4  301.920   0.477762"
      ]
     },
     "execution_count": 25,
     "metadata": {},
     "output_type": "execute_result"
    }
   ],
   "source": [
    "data = pd.DataFrame({'id':np.arange(len(train)),\"scores\":scores,\"macro_avg\":macro_avg})\n",
    "data.head()"
   ]
  },
  {
   "cell_type": "code",
   "execution_count": 27,
   "id": "49c73b3a",
   "metadata": {},
   "outputs": [
    {
     "data": {
      "image/png": "[encoded data removed]",
      "text/plain": [
       "<Figure size 640x480 with 1 Axes>"
      ]
     },
     "metadata": {},
     "output_type": "display_data"
    }
   ],
   "source": [
    "x=data['id']\n",
    "y=data['macro_avg']\n",
    "plt.scatter(x, y)\n",
    "plt.show()"
   ]
  },
  {
   "cell_type": "code",
   "execution_count": 28,
   "id": "4112b323",
   "metadata": {},
   "outputs": [
    {
     "data": {
      "text/plain": [
       "137"
      ]
     },
     "execution_count": 28,
     "metadata": {},
     "output_type": "execute_result"
    }
   ],
   "source": [
    "np.argmax(macro_avg)"
   ]
  },
  {
   "cell_type": "code",
   "execution_count": 29,
   "id": "f2b79aad",
   "metadata": {},
   "outputs": [
    {
     "data": {
      "text/plain": [
       "0.5884747554850647"
      ]
     },
     "execution_count": 29,
     "metadata": {},
     "output_type": "execute_result"
    }
   ],
   "source": [
    "max(macro_avg)"
   ]
  },
  {
   "cell_type": "code",
   "execution_count": 32,
   "id": "884c6ec3",
   "metadata": {},
   "outputs": [
    {
     "data": {
      "text/plain": [
       "502.36"
      ]
     },
     "execution_count": 32,
     "metadata": {},
     "output_type": "execute_result"
    }
   ],
   "source": [
    "threshold = scores[np.argmax(macro_avg)]\n",
    "threshold"
   ]
  },
  {
   "cell_type": "code",
   "execution_count": 33,
   "id": "ef2fcd1a",
   "metadata": {},
   "outputs": [
    {
     "name": "stdout",
     "output_type": "stream",
     "text": [
      "              precision    recall  f1-score   support\n",
      "\n",
      "         0.0       0.20      0.48      0.29        58\n",
      "         1.0       0.95      0.84      0.89       670\n",
      "\n",
      "    accuracy                           0.81       728\n",
      "   macro avg       0.58      0.66      0.59       728\n",
      "weighted avg       0.89      0.81      0.84       728\n",
      "\n"
     ]
    }
   ],
   "source": [
    "train['label1']=0\n",
    "train['label1'][train['score']>=threshold]=1\n",
    "print(classification_report(train['label'], train['label1']))"
   ]
  },
  {
   "cell_type": "code",
   "execution_count": 34,
   "id": "ef7435d6",
   "metadata": {},
   "outputs": [
    {
     "name": "stdout",
     "output_type": "stream",
     "text": [
      "              precision    recall  f1-score   support\n",
      "\n",
      "         0.0       0.38      0.19      0.25        16\n",
      "         1.0       0.91      0.96      0.94       141\n",
      "\n",
      "    accuracy                           0.89       157\n",
      "   macro avg       0.64      0.58      0.59       157\n",
      "weighted avg       0.86      0.89      0.87       157\n",
      "\n"
     ]
    }
   ],
   "source": [
    "test['label1']=0\n",
    "test['label1'][test['score']>=threshold]=1\n",
    "print(classification_report(test['label'], test['label1']))"
   ]
  }
 ],
 "metadata": {
  "kernelspec": {
   "display_name": "Python 3 (ipykernel)",
   "language": "python",
   "name": "python3"
  },
  "language_info": {
   "codemirror_mode": {
    "name": "ipython",
    "version": 3
   },
   "file_extension": ".py",
   "mimetype": "text/x-python",
   "name": "python",
   "nbconvert_exporter": "python",
   "pygments_lexer": "ipython3",
   "version": "3.11.4"
  }
 },
 "nbformat": 4,
 "nbformat_minor": 5
}
